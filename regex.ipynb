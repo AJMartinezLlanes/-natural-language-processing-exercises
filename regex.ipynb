{
 "cells": [
  {
   "cell_type": "code",
   "execution_count": 1,
   "id": "3291ddf3",
   "metadata": {},
   "outputs": [],
   "source": [
    "# import regular expressions\n",
    "import re\n",
    "import pandas as pd"
   ]
  },
  {
   "cell_type": "markdown",
   "id": "73cdd0c2",
   "metadata": {},
   "source": [
    "1. Write a function named is_vowel. It should accept a string as input and use a regular expression to determine if the passed string is a vowel. While not explicity mentioned in the lesson, you can treat the result of re.search as a boolean value that indicates whether or not the regular expression matches the given string.\n",
    "\n"
   ]
  },
  {
   "cell_type": "code",
   "execution_count": 2,
   "id": "a2b856fc",
   "metadata": {},
   "outputs": [],
   "source": [
    "def is_vowel(string):\n",
    "    '''\n",
    "    function takes a string and returns whether the string is a vowel or not\n",
    "    '''\n",
    "    regex = r'[aeiou]'\n",
    "    return bool(re.search(regex, string.lower()))"
   ]
  },
  {
   "cell_type": "code",
   "execution_count": 3,
   "id": "23c15be0",
   "metadata": {},
   "outputs": [
    {
     "data": {
      "text/plain": [
       "True"
      ]
     },
     "execution_count": 3,
     "metadata": {},
     "output_type": "execute_result"
    }
   ],
   "source": [
    "# try function with a vowel\n",
    "is_vowel('e')"
   ]
  },
  {
   "cell_type": "code",
   "execution_count": 4,
   "id": "8e8bb19c",
   "metadata": {},
   "outputs": [
    {
     "data": {
      "text/plain": [
       "False"
      ]
     },
     "execution_count": 4,
     "metadata": {},
     "output_type": "execute_result"
    }
   ],
   "source": [
    "# try function with a non-vowel\n",
    "is_vowel('p')"
   ]
  },
  {
   "cell_type": "markdown",
   "id": "3a4dc531",
   "metadata": {},
   "source": [
    "2. Write a function named is_valid_username that accepts a string as input. \n",
    "\n",
    "A valid username meets the following criteria: \n",
    "- starts with a lowercase letter \n",
    "- consists of lowercase letters, numbers, or the '_' character\n",
    "- no longer than 32 characters \n",
    "- function should return True or False depending on whether the passed string is a valid username"
   ]
  },
  {
   "cell_type": "code",
   "execution_count": 5,
   "id": "c9f95907",
   "metadata": {},
   "outputs": [],
   "source": [
    "def is_valid_username(username):\n",
    "    '''\n",
    "    function takes a password string and returns whether or not the string passed the critera of a username:\n",
    "    '''\n",
    "    regex = r'^[a-z][a-z0-9_]{,31}$'\n",
    "    return bool(re.search(regex, username))\n",
    "    "
   ]
  },
  {
   "cell_type": "code",
   "execution_count": 6,
   "id": "1353dcb0",
   "metadata": {},
   "outputs": [
    {
     "data": {
      "text/plain": [
       "True"
      ]
     },
     "execution_count": 6,
     "metadata": {},
     "output_type": "execute_result"
    }
   ],
   "source": [
    "# verify the function works\n",
    "\n",
    "username = 'homerun300_2022'\n",
    "is_valid_username(username)"
   ]
  },
  {
   "cell_type": "code",
   "execution_count": 7,
   "id": "0d000223",
   "metadata": {},
   "outputs": [
    {
     "data": {
      "text/plain": [
       "False"
      ]
     },
     "execution_count": 7,
     "metadata": {},
     "output_type": "execute_result"
    }
   ],
   "source": [
    "# verify the function works starting with a capital\n",
    "\n",
    "username = 'Homerun300_2022'\n",
    "is_valid_username(username)"
   ]
  },
  {
   "cell_type": "code",
   "execution_count": 8,
   "id": "3d6d7617",
   "metadata": {},
   "outputs": [
    {
     "data": {
      "text/plain": [
       "False"
      ]
     },
     "execution_count": 8,
     "metadata": {},
     "output_type": "execute_result"
    }
   ],
   "source": [
    "# verify the function works other random special character\n",
    "\n",
    "username = '34me?today2022'\n",
    "is_valid_username(username)"
   ]
  },
  {
   "cell_type": "code",
   "execution_count": 9,
   "id": "dc0b3b3a",
   "metadata": {},
   "outputs": [
    {
     "data": {
      "text/plain": [
       "False"
      ]
     },
     "execution_count": 9,
     "metadata": {},
     "output_type": "execute_result"
    }
   ],
   "source": [
    "# verify the function works longer than 32 characters\n",
    "\n",
    "username = 'homerun300_jinemityenslew892345njoadohh2022'\n",
    "is_valid_username(username)"
   ]
  },
  {
   "cell_type": "markdown",
   "id": "f4fbc938",
   "metadata": {},
   "source": [
    "3. Write a regular expression to capture phone numbers. It should match all of the following:\n",
    " - (210) 867 5309\n",
    " - +1 210.867.5309\n",
    " - 867-5309\n",
    " - 210-867-5309"
   ]
  },
  {
   "cell_type": "code",
   "execution_count": 10,
   "id": "88e5d887",
   "metadata": {},
   "outputs": [],
   "source": [
    " numbers = ['(210) 867 5309', '+1 210.867.5309','867-5309', '210-867-5309']"
   ]
  },
  {
   "cell_type": "code",
   "execution_count": 11,
   "id": "8be743d0",
   "metadata": {},
   "outputs": [],
   "source": [
    "phones = pd.DataFrame()\n",
    "phones['number'] = numbers"
   ]
  },
  {
   "cell_type": "code",
   "execution_count": 13,
   "id": "054ae3bf",
   "metadata": {},
   "outputs": [],
   "source": [
    "regex = r'^(?P<country_code>\\+\\d+)?\\D*?(?P<area_code>\\d{3})?\\D*?(?P<exchange_code>\\d{3})\\D*?(?P<line_number>\\d{4})\\D*$'"
   ]
  },
  {
   "cell_type": "code",
   "execution_count": 15,
   "id": "eddec18e",
   "metadata": {},
   "outputs": [
    {
     "data": {
      "text/html": [
       "<div>\n",
       "<style scoped>\n",
       "    .dataframe tbody tr th:only-of-type {\n",
       "        vertical-align: middle;\n",
       "    }\n",
       "\n",
       "    .dataframe tbody tr th {\n",
       "        vertical-align: top;\n",
       "    }\n",
       "\n",
       "    .dataframe thead th {\n",
       "        text-align: right;\n",
       "    }\n",
       "</style>\n",
       "<table border=\"1\" class=\"dataframe\">\n",
       "  <thead>\n",
       "    <tr style=\"text-align: right;\">\n",
       "      <th></th>\n",
       "      <th>country_code</th>\n",
       "      <th>area_code</th>\n",
       "      <th>exchange_code</th>\n",
       "      <th>line_number</th>\n",
       "    </tr>\n",
       "  </thead>\n",
       "  <tbody>\n",
       "    <tr>\n",
       "      <th>0</th>\n",
       "      <td>NaN</td>\n",
       "      <td>210</td>\n",
       "      <td>867</td>\n",
       "      <td>5309</td>\n",
       "    </tr>\n",
       "    <tr>\n",
       "      <th>1</th>\n",
       "      <td>+1</td>\n",
       "      <td>210</td>\n",
       "      <td>867</td>\n",
       "      <td>5309</td>\n",
       "    </tr>\n",
       "    <tr>\n",
       "      <th>2</th>\n",
       "      <td>NaN</td>\n",
       "      <td>NaN</td>\n",
       "      <td>867</td>\n",
       "      <td>5309</td>\n",
       "    </tr>\n",
       "    <tr>\n",
       "      <th>3</th>\n",
       "      <td>NaN</td>\n",
       "      <td>210</td>\n",
       "      <td>867</td>\n",
       "      <td>5309</td>\n",
       "    </tr>\n",
       "  </tbody>\n",
       "</table>\n",
       "</div>"
      ],
      "text/plain": [
       "  country_code area_code exchange_code line_number\n",
       "0          NaN       210           867        5309\n",
       "1           +1       210           867        5309\n",
       "2          NaN       NaN           867        5309\n",
       "3          NaN       210           867        5309"
      ]
     },
     "execution_count": 15,
     "metadata": {},
     "output_type": "execute_result"
    }
   ],
   "source": [
    "phones.number.str.extract(regex)"
   ]
  },
  {
   "cell_type": "markdown",
   "id": "d4afa720",
   "metadata": {},
   "source": [
    "4. Use regular expressions to convert the dates below to the standardized year-month-day format:\n",
    " - 02/04/19\n",
    " - 02/05/19\n",
    " - 02/06/19\n",
    " - 02/07/19\n",
    " - 02/08/19\n",
    " - 02/09/19\n",
    " - 02/10/19\n"
   ]
  },
  {
   "cell_type": "code",
   "execution_count": 44,
   "id": "2dd32bba",
   "metadata": {},
   "outputs": [],
   "source": [
    "dates = ['02/04/19', '02/05/19', '02/06/19', '02/07/19', '02/08/19', '02/09/19', '02/10/19']"
   ]
  },
  {
   "cell_type": "code",
   "execution_count": 45,
   "id": "0531141a",
   "metadata": {},
   "outputs": [
    {
     "data": {
      "text/html": [
       "<div>\n",
       "<style scoped>\n",
       "    .dataframe tbody tr th:only-of-type {\n",
       "        vertical-align: middle;\n",
       "    }\n",
       "\n",
       "    .dataframe tbody tr th {\n",
       "        vertical-align: top;\n",
       "    }\n",
       "\n",
       "    .dataframe thead th {\n",
       "        text-align: right;\n",
       "    }\n",
       "</style>\n",
       "<table border=\"1\" class=\"dataframe\">\n",
       "  <thead>\n",
       "    <tr style=\"text-align: right;\">\n",
       "      <th></th>\n",
       "      <th>old_format</th>\n",
       "    </tr>\n",
       "  </thead>\n",
       "  <tbody>\n",
       "    <tr>\n",
       "      <th>0</th>\n",
       "      <td>02/04/19</td>\n",
       "    </tr>\n",
       "    <tr>\n",
       "      <th>1</th>\n",
       "      <td>02/05/19</td>\n",
       "    </tr>\n",
       "    <tr>\n",
       "      <th>2</th>\n",
       "      <td>02/06/19</td>\n",
       "    </tr>\n",
       "    <tr>\n",
       "      <th>3</th>\n",
       "      <td>02/07/19</td>\n",
       "    </tr>\n",
       "    <tr>\n",
       "      <th>4</th>\n",
       "      <td>02/08/19</td>\n",
       "    </tr>\n",
       "    <tr>\n",
       "      <th>5</th>\n",
       "      <td>02/09/19</td>\n",
       "    </tr>\n",
       "    <tr>\n",
       "      <th>6</th>\n",
       "      <td>02/10/19</td>\n",
       "    </tr>\n",
       "  </tbody>\n",
       "</table>\n",
       "</div>"
      ],
      "text/plain": [
       "  old_format\n",
       "0   02/04/19\n",
       "1   02/05/19\n",
       "2   02/06/19\n",
       "3   02/07/19\n",
       "4   02/08/19\n",
       "5   02/09/19\n",
       "6   02/10/19"
      ]
     },
     "execution_count": 45,
     "metadata": {},
     "output_type": "execute_result"
    }
   ],
   "source": [
    "date_format = pd.DataFrame()\n",
    "date_format['old_format'] = dates\n",
    "date_format"
   ]
  },
  {
   "cell_type": "code",
   "execution_count": 49,
   "id": "09216e4d",
   "metadata": {},
   "outputs": [],
   "source": [
    "pattern = re.compile(r\"\"\"\n",
    "(?P<month>\\d{2})/\n",
    "(?P<day>\\d{2})/\n",
    "(?P<year>\\d{2})\n",
    "\"\"\", re.VERBOSE)"
   ]
  },
  {
   "cell_type": "code",
   "execution_count": 50,
   "id": "afcfd05e",
   "metadata": {},
   "outputs": [
    {
     "data": {
      "text/html": [
       "<div>\n",
       "<style scoped>\n",
       "    .dataframe tbody tr th:only-of-type {\n",
       "        vertical-align: middle;\n",
       "    }\n",
       "\n",
       "    .dataframe tbody tr th {\n",
       "        vertical-align: top;\n",
       "    }\n",
       "\n",
       "    .dataframe thead th {\n",
       "        text-align: right;\n",
       "    }\n",
       "</style>\n",
       "<table border=\"1\" class=\"dataframe\">\n",
       "  <thead>\n",
       "    <tr style=\"text-align: right;\">\n",
       "      <th></th>\n",
       "      <th>month</th>\n",
       "      <th>day</th>\n",
       "      <th>year</th>\n",
       "    </tr>\n",
       "  </thead>\n",
       "  <tbody>\n",
       "    <tr>\n",
       "      <th>0</th>\n",
       "      <td>02</td>\n",
       "      <td>04</td>\n",
       "      <td>19</td>\n",
       "    </tr>\n",
       "    <tr>\n",
       "      <th>1</th>\n",
       "      <td>02</td>\n",
       "      <td>05</td>\n",
       "      <td>19</td>\n",
       "    </tr>\n",
       "    <tr>\n",
       "      <th>2</th>\n",
       "      <td>02</td>\n",
       "      <td>06</td>\n",
       "      <td>19</td>\n",
       "    </tr>\n",
       "    <tr>\n",
       "      <th>3</th>\n",
       "      <td>02</td>\n",
       "      <td>07</td>\n",
       "      <td>19</td>\n",
       "    </tr>\n",
       "    <tr>\n",
       "      <th>4</th>\n",
       "      <td>02</td>\n",
       "      <td>08</td>\n",
       "      <td>19</td>\n",
       "    </tr>\n",
       "    <tr>\n",
       "      <th>5</th>\n",
       "      <td>02</td>\n",
       "      <td>09</td>\n",
       "      <td>19</td>\n",
       "    </tr>\n",
       "    <tr>\n",
       "      <th>6</th>\n",
       "      <td>02</td>\n",
       "      <td>10</td>\n",
       "      <td>19</td>\n",
       "    </tr>\n",
       "  </tbody>\n",
       "</table>\n",
       "</div>"
      ],
      "text/plain": [
       "  month day year\n",
       "0    02  04   19\n",
       "1    02  05   19\n",
       "2    02  06   19\n",
       "3    02  07   19\n",
       "4    02  08   19\n",
       "5    02  09   19\n",
       "6    02  10   19"
      ]
     },
     "execution_count": 50,
     "metadata": {},
     "output_type": "execute_result"
    }
   ],
   "source": [
    "date_format.old_format.str.extract(pattern)"
   ]
  },
  {
   "cell_type": "markdown",
   "id": "07349811",
   "metadata": {},
   "source": [
    "5. Write a regex to extract the various parts of these logfile lines:\n",
    "\n",
    " - GET /api/v1/sales?page=86 [16/Apr/2019:193452+0000] HTTP/1.1 {200} 510348 \"python-requests/2.21.0\" 97.105.19.58\n",
    " - POST /users_accounts/file-upload [16/Apr/2019:193452+0000] HTTP/1.1 {201} 42 \"User-Agent: Mozilla/5.0 (X11; Fedora; Fedora; Linux x86_64) AppleWebKit/537.36 (KHTML, like Gecko) Chrome/73.0.3683.86 Safari/537.36\" 97.105.19.58\n",
    " - GET /api/v1/items?page=3 [16/Apr/2019:193453+0000] HTTP/1.1 {429} 3561 \"python-requests/2.21.0\" 97.105.19.58\n"
   ]
  },
  {
   "cell_type": "code",
   "execution_count": null,
   "id": "bfc6adce",
   "metadata": {},
   "outputs": [],
   "source": []
  }
 ],
 "metadata": {
  "kernelspec": {
   "display_name": "Python 3 (ipykernel)",
   "language": "python",
   "name": "python3"
  },
  "language_info": {
   "codemirror_mode": {
    "name": "ipython",
    "version": 3
   },
   "file_extension": ".py",
   "mimetype": "text/x-python",
   "name": "python",
   "nbconvert_exporter": "python",
   "pygments_lexer": "ipython3",
   "version": "3.9.7"
  }
 },
 "nbformat": 4,
 "nbformat_minor": 5
}
