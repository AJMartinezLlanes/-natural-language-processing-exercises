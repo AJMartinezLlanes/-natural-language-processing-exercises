{
 "cells": [
  {
   "cell_type": "markdown",
   "metadata": {},
   "source": [
    "# Web Scraping"
   ]
  },
  {
   "cell_type": "code",
   "execution_count": 1,
   "metadata": {},
   "outputs": [],
   "source": [
    "from requests import get\n",
    "from bs4 import BeautifulSoup\n",
    "import pandas as pd"
   ]
  },
  {
   "cell_type": "code",
   "execution_count": 2,
   "metadata": {},
   "outputs": [
    {
     "data": {
      "text/plain": [
       "<Response [200]>"
      ]
     },
     "execution_count": 2,
     "metadata": {},
     "output_type": "execute_result"
    }
   ],
   "source": [
    "url = 'https://web-scraping-demo.zgulde.net/news'\n",
    "response = get(url)\n",
    "response"
   ]
  },
  {
   "cell_type": "code",
   "execution_count": 3,
   "metadata": {},
   "outputs": [
    {
     "name": "stdout",
     "output_type": "stream",
     "text": [
      "<!DOCTYPE html>\n",
      "<html lang=\"en\">\n",
      "<head>\n",
      "    <meta charset=\"UTF-8\">\n",
      "    <meta http-equiv=\"X-UA-Compatible\" content=\"IE=edge\">\n",
      "    <meta name=\"viewport\" content=\"width=device-width, initial-scale=1.0\">\n",
      "    <title>News Example Page</title>\n",
      "    <link href=\"https://unpkg.com/tailwindcss@^2/dist/tailwind.min.css\" rel=\"stylesheet\" />\n",
      "    <link rel=\"stylesheet\" href=\"https://cdn.jsdelivr.net/npm/bootstrap\n"
     ]
    }
   ],
   "source": [
    "print(response.text[:400])"
   ]
  },
  {
   "cell_type": "code",
   "execution_count": 4,
   "metadata": {},
   "outputs": [],
   "source": [
    "# Make a soup variable holding the response content\n",
    "soup = BeautifulSoup(response.text, 'html.parser')"
   ]
  },
  {
   "cell_type": "code",
   "execution_count": 5,
   "metadata": {},
   "outputs": [],
   "source": [
    "articles = soup.select('div.grid.grid-cols-4')"
   ]
  },
  {
   "cell_type": "code",
   "execution_count": 6,
   "metadata": {},
   "outputs": [
    {
     "data": {
      "text/plain": [
       "<div class=\"grid grid-cols-4 gap-x-4 border rounded pr-3 bg-green-50 hover:shadow-lg transition duration-500\">\n",
       "<img src=\"/static/placeholder.png\"/>\n",
       "<div class=\"col-span-3 space-y-3 py-3\">\n",
       "<h2 class=\"text-2xl text-green-900\">traditional family early</h2>\n",
       "<div class=\"grid grid-cols-2 italic\">\n",
       "<p> 1972-12-02 </p>\n",
       "<p class=\"text-right\">By Scott Mcguire </p>\n",
       "</div>\n",
       "<p>Nearly them painting statement somebody. Operation yeah hold.\n",
       "Matter international indeed respond kid and name. Have dog report.</p>\n",
       "</div>\n",
       "</div>"
      ]
     },
     "execution_count": 6,
     "metadata": {},
     "output_type": "execute_result"
    }
   ],
   "source": [
    "article = articles[0]\n",
    "article"
   ]
  },
  {
   "cell_type": "code",
   "execution_count": 7,
   "metadata": {},
   "outputs": [],
   "source": [
    "def parse_news_article(article):\n",
    "    output = {}\n",
    "    output['headline'] = article.find('h2').text\n",
    "    output['date'], output['byline'], output['description'] = [p.text for p in article.find_all('p')]\n",
    "    return output"
   ]
  },
  {
   "cell_type": "code",
   "execution_count": 8,
   "metadata": {},
   "outputs": [
    {
     "data": {
      "text/html": [
       "<div>\n",
       "<style scoped>\n",
       "    .dataframe tbody tr th:only-of-type {\n",
       "        vertical-align: middle;\n",
       "    }\n",
       "\n",
       "    .dataframe tbody tr th {\n",
       "        vertical-align: top;\n",
       "    }\n",
       "\n",
       "    .dataframe thead th {\n",
       "        text-align: right;\n",
       "    }\n",
       "</style>\n",
       "<table border=\"1\" class=\"dataframe\">\n",
       "  <thead>\n",
       "    <tr style=\"text-align: right;\">\n",
       "      <th></th>\n",
       "      <th>headline</th>\n",
       "      <th>date</th>\n",
       "      <th>byline</th>\n",
       "      <th>description</th>\n",
       "    </tr>\n",
       "  </thead>\n",
       "  <tbody>\n",
       "    <tr>\n",
       "      <th>0</th>\n",
       "      <td>traditional family early</td>\n",
       "      <td>1972-12-02</td>\n",
       "      <td>By Scott Mcguire</td>\n",
       "      <td>Nearly them painting statement somebody. Opera...</td>\n",
       "    </tr>\n",
       "    <tr>\n",
       "      <th>1</th>\n",
       "      <td>seek easy tree</td>\n",
       "      <td>1990-05-16</td>\n",
       "      <td>By Tracy Snyder</td>\n",
       "      <td>Final theory bring fall appear law defense. Co...</td>\n",
       "    </tr>\n",
       "    <tr>\n",
       "      <th>2</th>\n",
       "      <td>successful network put</td>\n",
       "      <td>1974-08-31</td>\n",
       "      <td>By Lindsey Hernandez</td>\n",
       "      <td>Until trouble you action. Better area human ne...</td>\n",
       "    </tr>\n",
       "    <tr>\n",
       "      <th>3</th>\n",
       "      <td>second group explain</td>\n",
       "      <td>2016-08-23</td>\n",
       "      <td>By Jackson Caldwell</td>\n",
       "      <td>Carry particular ready lay catch opportunity w...</td>\n",
       "    </tr>\n",
       "    <tr>\n",
       "      <th>4</th>\n",
       "      <td>official view will</td>\n",
       "      <td>1971-10-24</td>\n",
       "      <td>By Diana Fields</td>\n",
       "      <td>Artist degree per final thought many according...</td>\n",
       "    </tr>\n",
       "    <tr>\n",
       "      <th>5</th>\n",
       "      <td>cell store smile</td>\n",
       "      <td>2001-06-15</td>\n",
       "      <td>By Alexander Golden</td>\n",
       "      <td>Then later account four too painting. Rise exp...</td>\n",
       "    </tr>\n",
       "    <tr>\n",
       "      <th>6</th>\n",
       "      <td>thank understand attack</td>\n",
       "      <td>1979-11-21</td>\n",
       "      <td>By Hannah Parker</td>\n",
       "      <td>Indicate foot serious. Push grow manager my re...</td>\n",
       "    </tr>\n",
       "    <tr>\n",
       "      <th>7</th>\n",
       "      <td>prepare strong once</td>\n",
       "      <td>2017-01-12</td>\n",
       "      <td>By Robert Cruz</td>\n",
       "      <td>Official usually between. Spend base trial age...</td>\n",
       "    </tr>\n",
       "    <tr>\n",
       "      <th>8</th>\n",
       "      <td>company star actually</td>\n",
       "      <td>2013-02-22</td>\n",
       "      <td>By Douglas Vega</td>\n",
       "      <td>Evening step forward standard. Member so tree ...</td>\n",
       "    </tr>\n",
       "    <tr>\n",
       "      <th>9</th>\n",
       "      <td>student resource respond</td>\n",
       "      <td>1993-12-07</td>\n",
       "      <td>By Justin Foster</td>\n",
       "      <td>Suddenly control hot someone including safe tr...</td>\n",
       "    </tr>\n",
       "    <tr>\n",
       "      <th>10</th>\n",
       "      <td>these project land</td>\n",
       "      <td>1986-11-29</td>\n",
       "      <td>By James Miller</td>\n",
       "      <td>Pay part throw property.\\nGeneration instituti...</td>\n",
       "    </tr>\n",
       "    <tr>\n",
       "      <th>11</th>\n",
       "      <td>point hear drop</td>\n",
       "      <td>2016-09-29</td>\n",
       "      <td>By Karen Hodge</td>\n",
       "      <td>Real take fast system now set necessary. Night...</td>\n",
       "    </tr>\n",
       "  </tbody>\n",
       "</table>\n",
       "</div>"
      ],
      "text/plain": [
       "                    headline          date                 byline  \\\n",
       "0   traditional family early   1972-12-02       By Scott Mcguire    \n",
       "1             seek easy tree   1990-05-16        By Tracy Snyder    \n",
       "2     successful network put   1974-08-31   By Lindsey Hernandez    \n",
       "3       second group explain   2016-08-23    By Jackson Caldwell    \n",
       "4         official view will   1971-10-24        By Diana Fields    \n",
       "5           cell store smile   2001-06-15    By Alexander Golden    \n",
       "6    thank understand attack   1979-11-21       By Hannah Parker    \n",
       "7        prepare strong once   2017-01-12         By Robert Cruz    \n",
       "8      company star actually   2013-02-22        By Douglas Vega    \n",
       "9   student resource respond   1993-12-07       By Justin Foster    \n",
       "10        these project land   1986-11-29        By James Miller    \n",
       "11           point hear drop   2016-09-29         By Karen Hodge    \n",
       "\n",
       "                                          description  \n",
       "0   Nearly them painting statement somebody. Opera...  \n",
       "1   Final theory bring fall appear law defense. Co...  \n",
       "2   Until trouble you action. Better area human ne...  \n",
       "3   Carry particular ready lay catch opportunity w...  \n",
       "4   Artist degree per final thought many according...  \n",
       "5   Then later account four too painting. Rise exp...  \n",
       "6   Indicate foot serious. Push grow manager my re...  \n",
       "7   Official usually between. Spend base trial age...  \n",
       "8   Evening step forward standard. Member so tree ...  \n",
       "9   Suddenly control hot someone including safe tr...  \n",
       "10  Pay part throw property.\\nGeneration instituti...  \n",
       "11  Real take fast system now set necessary. Night...  "
      ]
     },
     "execution_count": 8,
     "metadata": {},
     "output_type": "execute_result"
    }
   ],
   "source": [
    "pd.DataFrame([parse_news_article(article) for article in articles])"
   ]
  },
  {
   "cell_type": "markdown",
   "metadata": {},
   "source": [
    "People exercise "
   ]
  },
  {
   "cell_type": "code",
   "execution_count": 9,
   "metadata": {},
   "outputs": [
    {
     "data": {
      "text/plain": [
       "<Response [200]>"
      ]
     },
     "execution_count": 9,
     "metadata": {},
     "output_type": "execute_result"
    }
   ],
   "source": [
    "url = 'https://web-scraping-demo.zgulde.net/people'\n",
    "response = get(url)\n",
    "response"
   ]
  },
  {
   "cell_type": "code",
   "execution_count": 10,
   "metadata": {},
   "outputs": [
    {
     "data": {
      "text/plain": [
       "'<!DOCTYPE html>\\n<html lang=\"en\">\\n<head>\\n    <meta charset=\"UTF-8\">\\n    <meta http-equiv=\"X-UA-Compatible\" content=\"IE=edge\">\\n    <meta name=\"viewport\" content=\"width=device-width, initial-scale=1.0\">\\n    <title>Example People Page</title>\\n    <link href=\"https://unpkg.com/tailwindcss@^2/dist/tailwind.min.css\" rel=\"stylesheet\" />\\n    <link rel=\"stylesheet\" href=\"https://cdn.jsdelivr.net/npm/bootstr'"
      ]
     },
     "execution_count": 10,
     "metadata": {},
     "output_type": "execute_result"
    }
   ],
   "source": [
    "response.text[:400]"
   ]
  },
  {
   "cell_type": "code",
   "execution_count": 11,
   "metadata": {},
   "outputs": [],
   "source": [
    "# Make a soup variable holding the response content\n",
    "soup = BeautifulSoup(response.text, 'html.parser')"
   ]
  },
  {
   "cell_type": "code",
   "execution_count": 12,
   "metadata": {},
   "outputs": [
    {
     "data": {
      "text/plain": [
       "[<div class=\"person border rounded px-3 py-5 grid grid-cols-2 gap-x-3 bg-purple-50 hover:shadow-lg transition duration-500\">\n",
       " <h2 class=\"text-2xl text-purple-800 name col-span-full border-b\">Leroy Miles</h2>\n",
       " <p class=\"quote col-span-full px-5 py-5 text-center text-gray-500\">\n",
       "             \"Upgradable neutral productivity\"\n",
       "         </p>\n",
       " <div class=\"grid grid-cols-9\">\n",
       " <i class=\"bi bi-envelope-fill text-purple-800\"></i>\n",
       " <p class=\"email col-span-8\">gcoleman@hotmail.com</p>\n",
       " <i class=\"bi bi-telephone-fill text-purple-800\"></i>\n",
       " <p class=\"phone col-span-8\">296.400.2632</p>\n",
       " </div>\n",
       " <div class=\"address grid grid-cols-9\">\n",
       " <i class=\"bi bi-geo-fill text-purple-800\"></i>\n",
       " <p class=\"col-span-8\">\n",
       "                 289 Alicia Village <br/>\n",
       "                 North Russell, TX 60587\n",
       "             </p>\n",
       " </div>\n",
       " </div>,\n",
       " <div class=\"person border rounded px-3 py-5 grid grid-cols-2 gap-x-3 bg-purple-50 hover:shadow-lg transition duration-500\">\n",
       " <h2 class=\"text-2xl text-purple-800 name col-span-full border-b\">Terry Watson</h2>\n",
       " <p class=\"quote col-span-full px-5 py-5 text-center text-gray-500\">\n",
       "             \"Re-engineered background data-warehouse\"\n",
       "         </p>\n",
       " <div class=\"grid grid-cols-9\">\n",
       " <i class=\"bi bi-envelope-fill text-purple-800\"></i>\n",
       " <p class=\"email col-span-8\">shafferjoe@pugh.biz</p>\n",
       " <i class=\"bi bi-telephone-fill text-purple-800\"></i>\n",
       " <p class=\"phone col-span-8\">+1-639-642-0739x681</p>\n",
       " </div>\n",
       " <div class=\"address grid grid-cols-9\">\n",
       " <i class=\"bi bi-geo-fill text-purple-800\"></i>\n",
       " <p class=\"col-span-8\">\n",
       "                 2016 Patel Curve <br/>\n",
       "                 Nelsonview, TN 55806\n",
       "             </p>\n",
       " </div>\n",
       " </div>,\n",
       " <div class=\"person border rounded px-3 py-5 grid grid-cols-2 gap-x-3 bg-purple-50 hover:shadow-lg transition duration-500\">\n",
       " <h2 class=\"text-2xl text-purple-800 name col-span-full border-b\">Christina Anderson</h2>\n",
       " <p class=\"quote col-span-full px-5 py-5 text-center text-gray-500\">\n",
       "             \"Function-based homogeneous migration\"\n",
       "         </p>\n",
       " <div class=\"grid grid-cols-9\">\n",
       " <i class=\"bi bi-envelope-fill text-purple-800\"></i>\n",
       " <p class=\"email col-span-8\">elee@gmail.com</p>\n",
       " <i class=\"bi bi-telephone-fill text-purple-800\"></i>\n",
       " <p class=\"phone col-span-8\">(693)780-5919x3660</p>\n",
       " </div>\n",
       " <div class=\"address grid grid-cols-9\">\n",
       " <i class=\"bi bi-geo-fill text-purple-800\"></i>\n",
       " <p class=\"col-span-8\">\n",
       "                 3907 Patricia Mountain Apt. 340 <br/>\n",
       "                 New Paul, NE 88949\n",
       "             </p>\n",
       " </div>\n",
       " </div>,\n",
       " <div class=\"person border rounded px-3 py-5 grid grid-cols-2 gap-x-3 bg-purple-50 hover:shadow-lg transition duration-500\">\n",
       " <h2 class=\"text-2xl text-purple-800 name col-span-full border-b\">Donna Black</h2>\n",
       " <p class=\"quote col-span-full px-5 py-5 text-center text-gray-500\">\n",
       "             \"Compatible analyzing implementation\"\n",
       "         </p>\n",
       " <div class=\"grid grid-cols-9\">\n",
       " <i class=\"bi bi-envelope-fill text-purple-800\"></i>\n",
       " <p class=\"email col-span-8\">tammie49@mitchell-nichols.biz</p>\n",
       " <i class=\"bi bi-telephone-fill text-purple-800\"></i>\n",
       " <p class=\"phone col-span-8\">001-196-315-4763</p>\n",
       " </div>\n",
       " <div class=\"address grid grid-cols-9\">\n",
       " <i class=\"bi bi-geo-fill text-purple-800\"></i>\n",
       " <p class=\"col-span-8\">\n",
       "                 82219 Hardy Spurs <br/>\n",
       "                 South Linda, TN 78169\n",
       "             </p>\n",
       " </div>\n",
       " </div>,\n",
       " <div class=\"person border rounded px-3 py-5 grid grid-cols-2 gap-x-3 bg-purple-50 hover:shadow-lg transition duration-500\">\n",
       " <h2 class=\"text-2xl text-purple-800 name col-span-full border-b\">Timothy Willis</h2>\n",
       " <p class=\"quote col-span-full px-5 py-5 text-center text-gray-500\">\n",
       "             \"Distributed responsive workforce\"\n",
       "         </p>\n",
       " <div class=\"grid grid-cols-9\">\n",
       " <i class=\"bi bi-envelope-fill text-purple-800\"></i>\n",
       " <p class=\"email col-span-8\">kingbrooke@becker-schmidt.com</p>\n",
       " <i class=\"bi bi-telephone-fill text-purple-800\"></i>\n",
       " <p class=\"phone col-span-8\">001-873-759-6898x66290</p>\n",
       " </div>\n",
       " <div class=\"address grid grid-cols-9\">\n",
       " <i class=\"bi bi-geo-fill text-purple-800\"></i>\n",
       " <p class=\"col-span-8\">\n",
       "                 89754 Tiffany Grove Apt. 291 <br/>\n",
       "                 New Mariah, HI 17664\n",
       "             </p>\n",
       " </div>\n",
       " </div>,\n",
       " <div class=\"person border rounded px-3 py-5 grid grid-cols-2 gap-x-3 bg-purple-50 hover:shadow-lg transition duration-500\">\n",
       " <h2 class=\"text-2xl text-purple-800 name col-span-full border-b\">James Howard</h2>\n",
       " <p class=\"quote col-span-full px-5 py-5 text-center text-gray-500\">\n",
       "             \"Automated well-modulated extranet\"\n",
       "         </p>\n",
       " <div class=\"grid grid-cols-9\">\n",
       " <i class=\"bi bi-envelope-fill text-purple-800\"></i>\n",
       " <p class=\"email col-span-8\">dhartman@gmail.com</p>\n",
       " <i class=\"bi bi-telephone-fill text-purple-800\"></i>\n",
       " <p class=\"phone col-span-8\">9709512314</p>\n",
       " </div>\n",
       " <div class=\"address grid grid-cols-9\">\n",
       " <i class=\"bi bi-geo-fill text-purple-800\"></i>\n",
       " <p class=\"col-span-8\">\n",
       "                 77813 Cervantes Club <br/>\n",
       "                 North Davidberg, KY 08606\n",
       "             </p>\n",
       " </div>\n",
       " </div>,\n",
       " <div class=\"person border rounded px-3 py-5 grid grid-cols-2 gap-x-3 bg-purple-50 hover:shadow-lg transition duration-500\">\n",
       " <h2 class=\"text-2xl text-purple-800 name col-span-full border-b\">Jennifer Ellis</h2>\n",
       " <p class=\"quote col-span-full px-5 py-5 text-center text-gray-500\">\n",
       "             \"Customer-focused bottom-line forecast\"\n",
       "         </p>\n",
       " <div class=\"grid grid-cols-9\">\n",
       " <i class=\"bi bi-envelope-fill text-purple-800\"></i>\n",
       " <p class=\"email col-span-8\">olsonphillip@peters.com</p>\n",
       " <i class=\"bi bi-telephone-fill text-purple-800\"></i>\n",
       " <p class=\"phone col-span-8\">(119)479-2783x79206</p>\n",
       " </div>\n",
       " <div class=\"address grid grid-cols-9\">\n",
       " <i class=\"bi bi-geo-fill text-purple-800\"></i>\n",
       " <p class=\"col-span-8\">\n",
       "                 24806 Williams Circle <br/>\n",
       "                 Crystalhaven, MD 12818\n",
       "             </p>\n",
       " </div>\n",
       " </div>,\n",
       " <div class=\"person border rounded px-3 py-5 grid grid-cols-2 gap-x-3 bg-purple-50 hover:shadow-lg transition duration-500\">\n",
       " <h2 class=\"text-2xl text-purple-800 name col-span-full border-b\">Madeline Martinez</h2>\n",
       " <p class=\"quote col-span-full px-5 py-5 text-center text-gray-500\">\n",
       "             \"Programmable disintermediate alliance\"\n",
       "         </p>\n",
       " <div class=\"grid grid-cols-9\">\n",
       " <i class=\"bi bi-envelope-fill text-purple-800\"></i>\n",
       " <p class=\"email col-span-8\">jeremymalone@hicks.org</p>\n",
       " <i class=\"bi bi-telephone-fill text-purple-800\"></i>\n",
       " <p class=\"phone col-span-8\">719.927.8157</p>\n",
       " </div>\n",
       " <div class=\"address grid grid-cols-9\">\n",
       " <i class=\"bi bi-geo-fill text-purple-800\"></i>\n",
       " <p class=\"col-span-8\">\n",
       "                 268 Tyler Island <br/>\n",
       "                 Yorkshire, CA 08272\n",
       "             </p>\n",
       " </div>\n",
       " </div>,\n",
       " <div class=\"person border rounded px-3 py-5 grid grid-cols-2 gap-x-3 bg-purple-50 hover:shadow-lg transition duration-500\">\n",
       " <h2 class=\"text-2xl text-purple-800 name col-span-full border-b\">Joseph Goodwin</h2>\n",
       " <p class=\"quote col-span-full px-5 py-5 text-center text-gray-500\">\n",
       "             \"Team-oriented high-level parallelism\"\n",
       "         </p>\n",
       " <div class=\"grid grid-cols-9\">\n",
       " <i class=\"bi bi-envelope-fill text-purple-800\"></i>\n",
       " <p class=\"email col-span-8\">thompsonethan@yahoo.com</p>\n",
       " <i class=\"bi bi-telephone-fill text-purple-800\"></i>\n",
       " <p class=\"phone col-span-8\">8754940766</p>\n",
       " </div>\n",
       " <div class=\"address grid grid-cols-9\">\n",
       " <i class=\"bi bi-geo-fill text-purple-800\"></i>\n",
       " <p class=\"col-span-8\">\n",
       "                 44296 Gonzales Turnpike <br/>\n",
       "                 Saramouth, ND 51984\n",
       "             </p>\n",
       " </div>\n",
       " </div>,\n",
       " <div class=\"person border rounded px-3 py-5 grid grid-cols-2 gap-x-3 bg-purple-50 hover:shadow-lg transition duration-500\">\n",
       " <h2 class=\"text-2xl text-purple-800 name col-span-full border-b\">Donald Lewis</h2>\n",
       " <p class=\"quote col-span-full px-5 py-5 text-center text-gray-500\">\n",
       "             \"Virtual methodical capability\"\n",
       "         </p>\n",
       " <div class=\"grid grid-cols-9\">\n",
       " <i class=\"bi bi-envelope-fill text-purple-800\"></i>\n",
       " <p class=\"email col-span-8\">smithjessica@chambers.org</p>\n",
       " <i class=\"bi bi-telephone-fill text-purple-800\"></i>\n",
       " <p class=\"phone col-span-8\">610.901.8518x73218</p>\n",
       " </div>\n",
       " <div class=\"address grid grid-cols-9\">\n",
       " <i class=\"bi bi-geo-fill text-purple-800\"></i>\n",
       " <p class=\"col-span-8\">\n",
       "                 702 Lisa Mall <br/>\n",
       "                 Kevinshire, WY 87928\n",
       "             </p>\n",
       " </div>\n",
       " </div>]"
      ]
     },
     "execution_count": 12,
     "metadata": {},
     "output_type": "execute_result"
    }
   ],
   "source": [
    "people = soup.select('div.person')\n",
    "people"
   ]
  },
  {
   "cell_type": "code",
   "execution_count": 13,
   "metadata": {},
   "outputs": [
    {
     "data": {
      "text/plain": [
       "<div class=\"person border rounded px-3 py-5 grid grid-cols-2 gap-x-3 bg-purple-50 hover:shadow-lg transition duration-500\">\n",
       "<h2 class=\"text-2xl text-purple-800 name col-span-full border-b\">Leroy Miles</h2>\n",
       "<p class=\"quote col-span-full px-5 py-5 text-center text-gray-500\">\n",
       "            \"Upgradable neutral productivity\"\n",
       "        </p>\n",
       "<div class=\"grid grid-cols-9\">\n",
       "<i class=\"bi bi-envelope-fill text-purple-800\"></i>\n",
       "<p class=\"email col-span-8\">gcoleman@hotmail.com</p>\n",
       "<i class=\"bi bi-telephone-fill text-purple-800\"></i>\n",
       "<p class=\"phone col-span-8\">296.400.2632</p>\n",
       "</div>\n",
       "<div class=\"address grid grid-cols-9\">\n",
       "<i class=\"bi bi-geo-fill text-purple-800\"></i>\n",
       "<p class=\"col-span-8\">\n",
       "                289 Alicia Village <br/>\n",
       "                North Russell, TX 60587\n",
       "            </p>\n",
       "</div>\n",
       "</div>"
      ]
     },
     "execution_count": 13,
     "metadata": {},
     "output_type": "execute_result"
    }
   ],
   "source": [
    "person = people[0]\n",
    "person"
   ]
  },
  {
   "cell_type": "code",
   "execution_count": 14,
   "metadata": {},
   "outputs": [
    {
     "data": {
      "text/plain": [
       "[<p class=\"quote col-span-full px-5 py-5 text-center text-gray-500\">\n",
       "             \"Upgradable neutral productivity\"\n",
       "         </p>,\n",
       " <p class=\"email col-span-8\">gcoleman@hotmail.com</p>,\n",
       " <p class=\"phone col-span-8\">296.400.2632</p>,\n",
       " <p class=\"col-span-8\">\n",
       "                 289 Alicia Village <br/>\n",
       "                 North Russell, TX 60587\n",
       "             </p>]"
      ]
     },
     "execution_count": 14,
     "metadata": {},
     "output_type": "execute_result"
    }
   ],
   "source": [
    "person.find_all('p')"
   ]
  },
  {
   "cell_type": "code",
   "execution_count": 15,
   "metadata": {},
   "outputs": [],
   "source": [
    "def parse_people(person):\n",
    "    output = {}\n",
    "    output['name'] = person.find('h2').text\n",
    "    output['quote'], output['email'], output['phone'], output['address'] = [p.text.strip() for p in person.find_all('p')]\n",
    "    return output"
   ]
  },
  {
   "cell_type": "code",
   "execution_count": 16,
   "metadata": {},
   "outputs": [
    {
     "data": {
      "text/plain": [
       "{'name': 'Leroy Miles',\n",
       " 'quote': '\"Upgradable neutral productivity\"',\n",
       " 'email': 'gcoleman@hotmail.com',\n",
       " 'phone': '296.400.2632',\n",
       " 'address': '289 Alicia Village \\n                North Russell, TX 60587'}"
      ]
     },
     "execution_count": 16,
     "metadata": {},
     "output_type": "execute_result"
    }
   ],
   "source": [
    "parse_people(person)"
   ]
  },
  {
   "cell_type": "code",
   "execution_count": 17,
   "metadata": {},
   "outputs": [
    {
     "data": {
      "text/html": [
       "<div>\n",
       "<style scoped>\n",
       "    .dataframe tbody tr th:only-of-type {\n",
       "        vertical-align: middle;\n",
       "    }\n",
       "\n",
       "    .dataframe tbody tr th {\n",
       "        vertical-align: top;\n",
       "    }\n",
       "\n",
       "    .dataframe thead th {\n",
       "        text-align: right;\n",
       "    }\n",
       "</style>\n",
       "<table border=\"1\" class=\"dataframe\">\n",
       "  <thead>\n",
       "    <tr style=\"text-align: right;\">\n",
       "      <th></th>\n",
       "      <th>name</th>\n",
       "      <th>quote</th>\n",
       "      <th>email</th>\n",
       "      <th>phone</th>\n",
       "      <th>address</th>\n",
       "    </tr>\n",
       "  </thead>\n",
       "  <tbody>\n",
       "    <tr>\n",
       "      <th>0</th>\n",
       "      <td>Leroy Miles</td>\n",
       "      <td>\"Upgradable neutral productivity\"</td>\n",
       "      <td>gcoleman@hotmail.com</td>\n",
       "      <td>296.400.2632</td>\n",
       "      <td>289 Alicia Village \\n                North Rus...</td>\n",
       "    </tr>\n",
       "    <tr>\n",
       "      <th>1</th>\n",
       "      <td>Terry Watson</td>\n",
       "      <td>\"Re-engineered background data-warehouse\"</td>\n",
       "      <td>shafferjoe@pugh.biz</td>\n",
       "      <td>+1-639-642-0739x681</td>\n",
       "      <td>2016 Patel Curve \\n                Nelsonview,...</td>\n",
       "    </tr>\n",
       "    <tr>\n",
       "      <th>2</th>\n",
       "      <td>Christina Anderson</td>\n",
       "      <td>\"Function-based homogeneous migration\"</td>\n",
       "      <td>elee@gmail.com</td>\n",
       "      <td>(693)780-5919x3660</td>\n",
       "      <td>3907 Patricia Mountain Apt. 340 \\n            ...</td>\n",
       "    </tr>\n",
       "    <tr>\n",
       "      <th>3</th>\n",
       "      <td>Donna Black</td>\n",
       "      <td>\"Compatible analyzing implementation\"</td>\n",
       "      <td>tammie49@mitchell-nichols.biz</td>\n",
       "      <td>001-196-315-4763</td>\n",
       "      <td>82219 Hardy Spurs \\n                South Lind...</td>\n",
       "    </tr>\n",
       "    <tr>\n",
       "      <th>4</th>\n",
       "      <td>Timothy Willis</td>\n",
       "      <td>\"Distributed responsive workforce\"</td>\n",
       "      <td>kingbrooke@becker-schmidt.com</td>\n",
       "      <td>001-873-759-6898x66290</td>\n",
       "      <td>89754 Tiffany Grove Apt. 291 \\n               ...</td>\n",
       "    </tr>\n",
       "    <tr>\n",
       "      <th>5</th>\n",
       "      <td>James Howard</td>\n",
       "      <td>\"Automated well-modulated extranet\"</td>\n",
       "      <td>dhartman@gmail.com</td>\n",
       "      <td>9709512314</td>\n",
       "      <td>77813 Cervantes Club \\n                North D...</td>\n",
       "    </tr>\n",
       "    <tr>\n",
       "      <th>6</th>\n",
       "      <td>Jennifer Ellis</td>\n",
       "      <td>\"Customer-focused bottom-line forecast\"</td>\n",
       "      <td>olsonphillip@peters.com</td>\n",
       "      <td>(119)479-2783x79206</td>\n",
       "      <td>24806 Williams Circle \\n                Crysta...</td>\n",
       "    </tr>\n",
       "    <tr>\n",
       "      <th>7</th>\n",
       "      <td>Madeline Martinez</td>\n",
       "      <td>\"Programmable disintermediate alliance\"</td>\n",
       "      <td>jeremymalone@hicks.org</td>\n",
       "      <td>719.927.8157</td>\n",
       "      <td>268 Tyler Island \\n                Yorkshire, ...</td>\n",
       "    </tr>\n",
       "    <tr>\n",
       "      <th>8</th>\n",
       "      <td>Joseph Goodwin</td>\n",
       "      <td>\"Team-oriented high-level parallelism\"</td>\n",
       "      <td>thompsonethan@yahoo.com</td>\n",
       "      <td>8754940766</td>\n",
       "      <td>44296 Gonzales Turnpike \\n                Sara...</td>\n",
       "    </tr>\n",
       "    <tr>\n",
       "      <th>9</th>\n",
       "      <td>Donald Lewis</td>\n",
       "      <td>\"Virtual methodical capability\"</td>\n",
       "      <td>smithjessica@chambers.org</td>\n",
       "      <td>610.901.8518x73218</td>\n",
       "      <td>702 Lisa Mall \\n                Kevinshire, WY...</td>\n",
       "    </tr>\n",
       "  </tbody>\n",
       "</table>\n",
       "</div>"
      ],
      "text/plain": [
       "                 name                                      quote  \\\n",
       "0         Leroy Miles          \"Upgradable neutral productivity\"   \n",
       "1        Terry Watson  \"Re-engineered background data-warehouse\"   \n",
       "2  Christina Anderson     \"Function-based homogeneous migration\"   \n",
       "3         Donna Black      \"Compatible analyzing implementation\"   \n",
       "4      Timothy Willis         \"Distributed responsive workforce\"   \n",
       "5        James Howard        \"Automated well-modulated extranet\"   \n",
       "6      Jennifer Ellis    \"Customer-focused bottom-line forecast\"   \n",
       "7   Madeline Martinez    \"Programmable disintermediate alliance\"   \n",
       "8      Joseph Goodwin     \"Team-oriented high-level parallelism\"   \n",
       "9        Donald Lewis            \"Virtual methodical capability\"   \n",
       "\n",
       "                           email                   phone  \\\n",
       "0           gcoleman@hotmail.com            296.400.2632   \n",
       "1            shafferjoe@pugh.biz     +1-639-642-0739x681   \n",
       "2                 elee@gmail.com      (693)780-5919x3660   \n",
       "3  tammie49@mitchell-nichols.biz        001-196-315-4763   \n",
       "4  kingbrooke@becker-schmidt.com  001-873-759-6898x66290   \n",
       "5             dhartman@gmail.com              9709512314   \n",
       "6        olsonphillip@peters.com     (119)479-2783x79206   \n",
       "7         jeremymalone@hicks.org            719.927.8157   \n",
       "8        thompsonethan@yahoo.com              8754940766   \n",
       "9      smithjessica@chambers.org      610.901.8518x73218   \n",
       "\n",
       "                                             address  \n",
       "0  289 Alicia Village \\n                North Rus...  \n",
       "1  2016 Patel Curve \\n                Nelsonview,...  \n",
       "2  3907 Patricia Mountain Apt. 340 \\n            ...  \n",
       "3  82219 Hardy Spurs \\n                South Lind...  \n",
       "4  89754 Tiffany Grove Apt. 291 \\n               ...  \n",
       "5  77813 Cervantes Club \\n                North D...  \n",
       "6  24806 Williams Circle \\n                Crysta...  \n",
       "7  268 Tyler Island \\n                Yorkshire, ...  \n",
       "8  44296 Gonzales Turnpike \\n                Sara...  \n",
       "9  702 Lisa Mall \\n                Kevinshire, WY...  "
      ]
     },
     "execution_count": 17,
     "metadata": {},
     "output_type": "execute_result"
    }
   ],
   "source": [
    "pd.DataFrame([parse_people(person) for person in people])"
   ]
  },
  {
   "cell_type": "markdown",
   "metadata": {},
   "source": [
    "# Exercises\n",
    "---"
   ]
  },
  {
   "cell_type": "markdown",
   "metadata": {},
   "source": [
    "1. Codeup Blog Articles\n",
    " - Visit Codeup's Blog and record the urls for at least 5 distinct blog posts. \n",
    " - For each post: \n",
    "    - title\n",
    "    - content\n",
    " - Encapsulate your work in a function named get_blog_articles that will return a list of dictionaries:\n",
    "    - each dictionary representing one article\n",
    "    - dictionary should look like this:\n",
    "        \n",
    "        {\n",
    "        'title': 'the title of the article',\n",
    "        'content': 'the full text content of the article'\n",
    "        }\n"
   ]
  },
  {
   "cell_type": "code",
   "execution_count": 18,
   "metadata": {},
   "outputs": [
    {
     "data": {
      "text/plain": [
       "<Response [200]>"
      ]
     },
     "execution_count": 18,
     "metadata": {},
     "output_type": "execute_result"
    }
   ],
   "source": [
    "headers = {'user-agent': 'Innis Data Science Cohort'}\n",
    "url = 'https://codeup.com/blog/'\n",
    "response = get(url, headers=headers)\n",
    "response"
   ]
  },
  {
   "cell_type": "code",
   "execution_count": 19,
   "metadata": {},
   "outputs": [
    {
     "data": {
      "text/plain": [
       "'<!DOCTYPE html>\\n<html lang=\"en-US\">\\n<head>\\n\\t<meta charset=\"UTF-8\" />\\n<meta http-equiv=\"X-UA-Compatible\" content=\"IE=edge\">\\n\\t<link rel=\"pingback\" href=\"https://codeup.com/xmlrpc.php\" />\\n\\n\\t<script type=\"text/javascript\">\\n\\t\\tdocument.documentElement.className = \\'js\\';\\n\\t</script>\\n\\t\\n\\t<link rel=\"preconnect\" href=\"https://fonts.gstatic.com\" crossorigin /><script id=\"diviarea-loader\">window.DiviPopupData=wi'"
      ]
     },
     "execution_count": 19,
     "metadata": {},
     "output_type": "execute_result"
    }
   ],
   "source": [
    "response.text[:400]"
   ]
  },
  {
   "cell_type": "code",
   "execution_count": 20,
   "metadata": {},
   "outputs": [],
   "source": [
    "soup = BeautifulSoup(response.text, 'html.parser')"
   ]
  },
  {
   "cell_type": "code",
   "execution_count": 115,
   "metadata": {},
   "outputs": [],
   "source": [
    "blogs = soup.find_all('article')[:16]"
   ]
  },
  {
   "cell_type": "code",
   "execution_count": 116,
   "metadata": {},
   "outputs": [],
   "source": [
    "blog = blogs[0]"
   ]
  },
  {
   "cell_type": "code",
   "execution_count": 117,
   "metadata": {},
   "outputs": [
    {
     "data": {
      "text/plain": [
       "'From Bootcamp to Bootcamp | A Military Appreciation Panel'"
      ]
     },
     "execution_count": 117,
     "metadata": {},
     "output_type": "execute_result"
    }
   ],
   "source": [
    "blog.find('h2').text"
   ]
  },
  {
   "cell_type": "code",
   "execution_count": 118,
   "metadata": {},
   "outputs": [
    {
     "data": {
      "text/plain": [
       "'Apr 27, 2022'"
      ]
     },
     "execution_count": 118,
     "metadata": {},
     "output_type": "execute_result"
    }
   ],
   "source": [
    "blog.find('p').text[:12]"
   ]
  },
  {
   "cell_type": "code",
   "execution_count": 119,
   "metadata": {},
   "outputs": [
    {
     "data": {
      "text/plain": [
       "' Alumni Stories, Dallas, Events, Featured, Military, San Antonio, Veterans, Virtual, Workshops'"
      ]
     },
     "execution_count": 119,
     "metadata": {},
     "output_type": "execute_result"
    }
   ],
   "source": [
    "blog.find('p').text[14:]"
   ]
  },
  {
   "cell_type": "code",
   "execution_count": 120,
   "metadata": {},
   "outputs": [
    {
     "data": {
      "text/plain": [
       "'In honor of Military Appreciation Month, join us for a discussion with Codeup Alumni who are also Military Veterans!...'"
      ]
     },
     "execution_count": 120,
     "metadata": {},
     "output_type": "execute_result"
    }
   ],
   "source": [
    "blog.find_all('p')[1].text"
   ]
  },
  {
   "cell_type": "code",
   "execution_count": 121,
   "metadata": {},
   "outputs": [],
   "source": [
    "def parse_blog(blog):\n",
    "    output = {}\n",
    "    output['title'] = blog.find('h2').text\n",
    "    output['date'] = blog.find('p').text[:12]\n",
    "    output['tags'] = blog.find('p').text[14:]\n",
    "    output['content'] = blog.find_all('p')[1].text\n",
    "    return output"
   ]
  },
  {
   "cell_type": "code",
   "execution_count": 122,
   "metadata": {},
   "outputs": [
    {
     "data": {
      "text/plain": [
       "{'title': 'From Bootcamp to Bootcamp | A Military Appreciation Panel',\n",
       " 'date': 'Apr 27, 2022',\n",
       " 'tags': ' Alumni Stories, Dallas, Events, Featured, Military, San Antonio, Veterans, Virtual, Workshops',\n",
       " 'content': 'In honor of Military Appreciation Month, join us for a discussion with Codeup Alumni who are also Military Veterans!...'}"
      ]
     },
     "execution_count": 122,
     "metadata": {},
     "output_type": "execute_result"
    }
   ],
   "source": [
    "parse_blog(blog)"
   ]
  },
  {
   "cell_type": "code",
   "execution_count": 123,
   "metadata": {},
   "outputs": [
    {
     "data": {
      "text/plain": [
       "\"On this International Women's Day 2022 we wanted to tell stories about women in tech. What better way to do that than...\""
      ]
     },
     "execution_count": 123,
     "metadata": {},
     "output_type": "execute_result"
    }
   ],
   "source": [
    "blogs[5].find_all('p')[1].text"
   ]
  },
  {
   "cell_type": "code",
   "execution_count": 124,
   "metadata": {},
   "outputs": [
    {
     "data": {
      "text/html": [
       "<div>\n",
       "<style scoped>\n",
       "    .dataframe tbody tr th:only-of-type {\n",
       "        vertical-align: middle;\n",
       "    }\n",
       "\n",
       "    .dataframe tbody tr th {\n",
       "        vertical-align: top;\n",
       "    }\n",
       "\n",
       "    .dataframe thead th {\n",
       "        text-align: right;\n",
       "    }\n",
       "</style>\n",
       "<table border=\"1\" class=\"dataframe\">\n",
       "  <thead>\n",
       "    <tr style=\"text-align: right;\">\n",
       "      <th></th>\n",
       "      <th>title</th>\n",
       "      <th>date</th>\n",
       "      <th>tags</th>\n",
       "      <th>content</th>\n",
       "    </tr>\n",
       "  </thead>\n",
       "  <tbody>\n",
       "    <tr>\n",
       "      <th>0</th>\n",
       "      <td>From Bootcamp to Bootcamp | A Military Appreci...</td>\n",
       "      <td>Apr 27, 2022</td>\n",
       "      <td>Alumni Stories, Dallas, Events, Featured, Mil...</td>\n",
       "      <td>In honor of Military Appreciation Month, join ...</td>\n",
       "    </tr>\n",
       "    <tr>\n",
       "      <th>1</th>\n",
       "      <td>Our Acquisition of the Rackspace Cloud Academy...</td>\n",
       "      <td>Apr 14, 2022</td>\n",
       "      <td>Codeup News, Featured, IT Training</td>\n",
       "      <td>Just about a year ago on April 16th, 2021 we a...</td>\n",
       "    </tr>\n",
       "    <tr>\n",
       "      <th>2</th>\n",
       "      <td>Learn to Code: HTML &amp; CSS on 4/30</td>\n",
       "      <td>Apr 1, 2022</td>\n",
       "      <td>Virtual, Workshops</td>\n",
       "      <td>HTML &amp; CSS are the design building blocks of a...</td>\n",
       "    </tr>\n",
       "    <tr>\n",
       "      <th>3</th>\n",
       "      <td>Learn to Code: Python Workshop on 4/23</td>\n",
       "      <td>Mar 31, 2022</td>\n",
       "      <td>Events, Virtual, Workshops</td>\n",
       "      <td>According to LinkedIn, the \"#1 Most Promising ...</td>\n",
       "    </tr>\n",
       "    <tr>\n",
       "      <th>4</th>\n",
       "      <td>Coming Soon: Cloud Administration</td>\n",
       "      <td>Mar 17, 2022</td>\n",
       "      <td>Codeup News</td>\n",
       "      <td>We're launching a new program out of San Anton...</td>\n",
       "    </tr>\n",
       "    <tr>\n",
       "      <th>5</th>\n",
       "      <td>5 Books Every Woman In Tech Should Read</td>\n",
       "      <td>Mar 8, 2022</td>\n",
       "      <td>Featured</td>\n",
       "      <td>On this International Women's Day 2022 we want...</td>\n",
       "    </tr>\n",
       "    <tr>\n",
       "      <th>6</th>\n",
       "      <td>Codeup Start Dates for March 2022</td>\n",
       "      <td>Jan 26, 2022</td>\n",
       "      <td>Codeup News</td>\n",
       "      <td>As we approach the end of January we wanted to...</td>\n",
       "    </tr>\n",
       "    <tr>\n",
       "      <th>7</th>\n",
       "      <td>VET TEC Funding Now Available For Dallas Veterans</td>\n",
       "      <td>Jan 7, 2022</td>\n",
       "      <td>Codeup News, Dallas Newsletter, Featured, Tips...</td>\n",
       "      <td>We are so happy to announce that VET TEC benef...</td>\n",
       "    </tr>\n",
       "    <tr>\n",
       "      <th>8</th>\n",
       "      <td>Dallas Campus Re-opens With New Grant Partner</td>\n",
       "      <td>Dec 30, 2021</td>\n",
       "      <td>Codeup News, Featured</td>\n",
       "      <td>We are happy to announce that our Dallas campu...</td>\n",
       "    </tr>\n",
       "    <tr>\n",
       "      <th>9</th>\n",
       "      <td>Codeup’s Placement Team Continues Setting Records</td>\n",
       "      <td>Nov 19, 2021</td>\n",
       "      <td>Codeup News, Employers</td>\n",
       "      <td>Our Placement Team is simply defined as a grou...</td>\n",
       "    </tr>\n",
       "    <tr>\n",
       "      <th>10</th>\n",
       "      <td>IT Certifications 101: Why They Matter, and Wh...</td>\n",
       "      <td>Nov 18, 2021</td>\n",
       "      <td>IT Training, Tips for Prospective Students</td>\n",
       "      <td>AWS, Google, Azure, Red Hat, CompTIA...these a...</td>\n",
       "    </tr>\n",
       "    <tr>\n",
       "      <th>11</th>\n",
       "      <td>A rise in cyber attacks means opportunities fo...</td>\n",
       "      <td>Nov 17, 2021</td>\n",
       "      <td>Cybersecurity</td>\n",
       "      <td>In the last few months, the US has experienced...</td>\n",
       "    </tr>\n",
       "    <tr>\n",
       "      <th>12</th>\n",
       "      <td>Use your GI Bill® benefits to Land a Job in Tech</td>\n",
       "      <td>Nov 4, 2021</td>\n",
       "      <td>Codeup News, Tips for Prospective Students</td>\n",
       "      <td>As the end of military service gets closer, ma...</td>\n",
       "    </tr>\n",
       "    <tr>\n",
       "      <th>13</th>\n",
       "      <td>Which program is right for me: Cyber Security ...</td>\n",
       "      <td>Oct 28, 2021</td>\n",
       "      <td>IT Training, Tips for Prospective Students</td>\n",
       "      <td>What IT Career should I choose? If you're thin...</td>\n",
       "    </tr>\n",
       "    <tr>\n",
       "      <th>14</th>\n",
       "      <td>What the Heck is System Engineering?</td>\n",
       "      <td>Oct 21, 2021</td>\n",
       "      <td>IT Training, Tips for Prospective Students</td>\n",
       "      <td>Codeup offers a 13-week training program: Syst...</td>\n",
       "    </tr>\n",
       "    <tr>\n",
       "      <th>15</th>\n",
       "      <td>From Speech Pathology to Business Intelligence</td>\n",
       "      <td>Oct 18, 2021</td>\n",
       "      <td>Alumni Stories</td>\n",
       "      <td>By: Alicia Gonzalez Before Codeup, I was a hom...</td>\n",
       "    </tr>\n",
       "  </tbody>\n",
       "</table>\n",
       "</div>"
      ],
      "text/plain": [
       "                                                title          date  \\\n",
       "0   From Bootcamp to Bootcamp | A Military Appreci...  Apr 27, 2022   \n",
       "1   Our Acquisition of the Rackspace Cloud Academy...  Apr 14, 2022   \n",
       "2                   Learn to Code: HTML & CSS on 4/30  Apr 1, 2022    \n",
       "3              Learn to Code: Python Workshop on 4/23  Mar 31, 2022   \n",
       "4                   Coming Soon: Cloud Administration  Mar 17, 2022   \n",
       "5             5 Books Every Woman In Tech Should Read  Mar 8, 2022    \n",
       "6                   Codeup Start Dates for March 2022  Jan 26, 2022   \n",
       "7   VET TEC Funding Now Available For Dallas Veterans  Jan 7, 2022    \n",
       "8       Dallas Campus Re-opens With New Grant Partner  Dec 30, 2021   \n",
       "9   Codeup’s Placement Team Continues Setting Records  Nov 19, 2021   \n",
       "10  IT Certifications 101: Why They Matter, and Wh...  Nov 18, 2021   \n",
       "11  A rise in cyber attacks means opportunities fo...  Nov 17, 2021   \n",
       "12   Use your GI Bill® benefits to Land a Job in Tech  Nov 4, 2021    \n",
       "13  Which program is right for me: Cyber Security ...  Oct 28, 2021   \n",
       "14               What the Heck is System Engineering?  Oct 21, 2021   \n",
       "15     From Speech Pathology to Business Intelligence  Oct 18, 2021   \n",
       "\n",
       "                                                 tags  \\\n",
       "0    Alumni Stories, Dallas, Events, Featured, Mil...   \n",
       "1                  Codeup News, Featured, IT Training   \n",
       "2                                  Virtual, Workshops   \n",
       "3                          Events, Virtual, Workshops   \n",
       "4                                         Codeup News   \n",
       "5                                            Featured   \n",
       "6                                         Codeup News   \n",
       "7   Codeup News, Dallas Newsletter, Featured, Tips...   \n",
       "8                               Codeup News, Featured   \n",
       "9                              Codeup News, Employers   \n",
       "10         IT Training, Tips for Prospective Students   \n",
       "11                                      Cybersecurity   \n",
       "12         Codeup News, Tips for Prospective Students   \n",
       "13         IT Training, Tips for Prospective Students   \n",
       "14         IT Training, Tips for Prospective Students   \n",
       "15                                     Alumni Stories   \n",
       "\n",
       "                                              content  \n",
       "0   In honor of Military Appreciation Month, join ...  \n",
       "1   Just about a year ago on April 16th, 2021 we a...  \n",
       "2   HTML & CSS are the design building blocks of a...  \n",
       "3   According to LinkedIn, the \"#1 Most Promising ...  \n",
       "4   We're launching a new program out of San Anton...  \n",
       "5   On this International Women's Day 2022 we want...  \n",
       "6   As we approach the end of January we wanted to...  \n",
       "7   We are so happy to announce that VET TEC benef...  \n",
       "8   We are happy to announce that our Dallas campu...  \n",
       "9   Our Placement Team is simply defined as a grou...  \n",
       "10  AWS, Google, Azure, Red Hat, CompTIA...these a...  \n",
       "11  In the last few months, the US has experienced...  \n",
       "12  As the end of military service gets closer, ma...  \n",
       "13  What IT Career should I choose? If you're thin...  \n",
       "14  Codeup offers a 13-week training program: Syst...  \n",
       "15  By: Alicia Gonzalez Before Codeup, I was a hom...  "
      ]
     },
     "execution_count": 124,
     "metadata": {},
     "output_type": "execute_result"
    }
   ],
   "source": [
    "pd.DataFrame([parse_blog(blog) for blog in blogs])"
   ]
  },
  {
   "cell_type": "markdown",
   "metadata": {},
   "source": [
    "---\n",
    "2. News Articles\n",
    " - We will now be scraping text data from inshorts, a website that provides a brief overview of many different topics.\n",
    " - Write a function that scrapes the news articles for the following topics:\n",
    "     - Business\n",
    "     - Sports\n",
    "     - Technology\n",
    "     - Entertainment\n",
    " - The end product of this should be a function named get_news_articles that returns a list of dictionaries, where each dictionary has this shape:\n",
    " \n",
    "    {\n",
    "    'title': 'The article title',\n",
    "    'content': 'The article content',\n",
    "    'category': 'business' # for example\n",
    "    }"
   ]
  },
  {
   "cell_type": "code",
   "execution_count": 129,
   "metadata": {},
   "outputs": [
    {
     "data": {
      "text/plain": [
       "<Response [200]>"
      ]
     },
     "execution_count": 129,
     "metadata": {},
     "output_type": "execute_result"
    }
   ],
   "source": [
    "url = 'https://inshorts.com/en/read/business'\n",
    "response = get(url)\n",
    "response"
   ]
  },
  {
   "cell_type": "code",
   "execution_count": 130,
   "metadata": {},
   "outputs": [
    {
     "data": {
      "text/plain": [
       "'<!doctype html>\\n<html lang=\"en\">\\n\\n<head>\\n  <meta charset=\"utf-8\" />\\n  <style>\\n    /* The Modal (background) */\\n    .modal_contact {\\n        display: none; /* Hidden by default */\\n        position: fixed; /* Stay in place */\\n        z-index: 8; /* Sit on top */\\n        left: 0;\\n        top: 0;\\n        width: 100%; /* Full width */\\n        height: 100%;\\n        overflow: auto; /* Enable scroll if needed */\\n        background-color: rgb(0,0,0); /* Fallback color */\\n        background-color: rgba(0,'"
      ]
     },
     "execution_count": 130,
     "metadata": {},
     "output_type": "execute_result"
    }
   ],
   "source": [
    "response.text[:500]"
   ]
  },
  {
   "cell_type": "code",
   "execution_count": 131,
   "metadata": {},
   "outputs": [],
   "source": [
    "soup = BeautifulSoup(response.text, 'html.parser')"
   ]
  },
  {
   "cell_type": "code",
   "execution_count": 158,
   "metadata": {},
   "outputs": [],
   "source": [
    "news = soup.select('.news-card')"
   ]
  },
  {
   "cell_type": "code",
   "execution_count": 166,
   "metadata": {},
   "outputs": [
    {
     "data": {
      "text/plain": [
       "<div class=\"news-card-image\" style=\"background-image: url('https://static.inshorts.com/inshorts/images/v1/variants/jpg/m/2022/05_may/6_fri/img_1651833498385_383.jpg?')\">\n",
       "</div>"
      ]
     },
     "execution_count": 166,
     "metadata": {},
     "output_type": "execute_result"
    }
   ],
   "source": [
    "news[0].find('div')"
   ]
  },
  {
   "cell_type": "code",
   "execution_count": null,
   "metadata": {},
   "outputs": [],
   "source": []
  }
 ],
 "metadata": {
  "kernelspec": {
   "display_name": "Python 3 (ipykernel)",
   "language": "python",
   "name": "python3"
  },
  "language_info": {
   "codemirror_mode": {
    "name": "ipython",
    "version": 3
   },
   "file_extension": ".py",
   "mimetype": "text/x-python",
   "name": "python",
   "nbconvert_exporter": "python",
   "pygments_lexer": "ipython3",
   "version": "3.9.7"
  }
 },
 "nbformat": 4,
 "nbformat_minor": 2
}
